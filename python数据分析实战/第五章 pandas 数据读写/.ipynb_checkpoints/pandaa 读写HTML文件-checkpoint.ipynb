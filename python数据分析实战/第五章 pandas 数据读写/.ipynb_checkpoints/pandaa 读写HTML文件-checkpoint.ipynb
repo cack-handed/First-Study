{
 "cells": [
  {
   "cell_type": "markdown",
   "metadata": {},
   "source": [
    "### pandas 提供了以下I/O API函数用于读写HTML文件：\n",
    "* read_html（）\n",
    "* t0_html（）\n",
    "网上很多数据不是以TXT、CSV等格式存储，往往数据是网页本身的一部分。实现一个网页读取数据的函数非常有必要。   \n",
    "读取网页数据的操作被称为**网页抓取**\n",
    "***\n",
    "网站多采用HTML5的格式存储，anaconda安装html5lib模块：   \n",
    "conda install html5lib"
   ]
  },
  {
   "cell_type": "code",
   "execution_count": 1,
   "metadata": {},
   "outputs": [],
   "source": [
    "import pandas as pd\n",
    "import numpy as np\n",
    "frame = pd.DataFrame(np.arange(4).reshape(2,2))"
   ]
  },
  {
   "cell_type": "code",
   "execution_count": 2,
   "metadata": {},
   "outputs": [
    {
     "name": "stdout",
     "output_type": "stream",
     "text": [
      "<table border=\"1\" class=\"dataframe\">\n",
      "  <thead>\n",
      "    <tr style=\"text-align: right;\">\n",
      "      <th></th>\n",
      "      <th>0</th>\n",
      "      <th>1</th>\n",
      "    </tr>\n",
      "  </thead>\n",
      "  <tbody>\n",
      "    <tr>\n",
      "      <th>0</th>\n",
      "      <td>0</td>\n",
      "      <td>1</td>\n",
      "    </tr>\n",
      "    <tr>\n",
      "      <th>1</th>\n",
      "      <td>2</td>\n",
      "      <td>3</td>\n",
      "    </tr>\n",
      "  </tbody>\n",
      "</table>\n"
     ]
    }
   ],
   "source": [
    "print(frame.to_html())"
   ]
  },
  {
   "cell_type": "code",
   "execution_count": 3,
   "metadata": {},
   "outputs": [
    {
     "data": {
      "text/html": [
       "<div>\n",
       "<style scoped>\n",
       "    .dataframe tbody tr th:only-of-type {\n",
       "        vertical-align: middle;\n",
       "    }\n",
       "\n",
       "    .dataframe tbody tr th {\n",
       "        vertical-align: top;\n",
       "    }\n",
       "\n",
       "    .dataframe thead th {\n",
       "        text-align: right;\n",
       "    }\n",
       "</style>\n",
       "<table border=\"1\" class=\"dataframe\">\n",
       "  <thead>\n",
       "    <tr style=\"text-align: right;\">\n",
       "      <th></th>\n",
       "      <th>up</th>\n",
       "      <th>down</th>\n",
       "      <th>right</th>\n",
       "      <th>left</th>\n",
       "    </tr>\n",
       "  </thead>\n",
       "  <tbody>\n",
       "    <tr>\n",
       "      <th>white</th>\n",
       "      <td>0.945437</td>\n",
       "      <td>0.893630</td>\n",
       "      <td>0.008821</td>\n",
       "      <td>0.680457</td>\n",
       "    </tr>\n",
       "    <tr>\n",
       "      <th>black</th>\n",
       "      <td>0.015846</td>\n",
       "      <td>0.470614</td>\n",
       "      <td>0.168449</td>\n",
       "      <td>0.819730</td>\n",
       "    </tr>\n",
       "    <tr>\n",
       "      <th>red</th>\n",
       "      <td>0.565784</td>\n",
       "      <td>0.437285</td>\n",
       "      <td>0.743008</td>\n",
       "      <td>0.668553</td>\n",
       "    </tr>\n",
       "    <tr>\n",
       "      <th>blue</th>\n",
       "      <td>0.573898</td>\n",
       "      <td>0.024029</td>\n",
       "      <td>0.657169</td>\n",
       "      <td>0.356462</td>\n",
       "    </tr>\n",
       "  </tbody>\n",
       "</table>\n",
       "</div>"
      ],
      "text/plain": [
       "             up      down     right      left\n",
       "white  0.945437  0.893630  0.008821  0.680457\n",
       "black  0.015846  0.470614  0.168449  0.819730\n",
       "red    0.565784  0.437285  0.743008  0.668553\n",
       "blue   0.573898  0.024029  0.657169  0.356462"
      ]
     },
     "execution_count": 3,
     "metadata": {},
     "output_type": "execute_result"
    }
   ],
   "source": [
    "frame = pd.DataFrame(np.random.random((4,4)),\n",
    "                    index = ['white','black','red','blue'],\n",
    "                    columns = ['up','down','right','left'])\n",
    "frame"
   ]
  },
  {
   "cell_type": "code",
   "execution_count": 4,
   "metadata": {},
   "outputs": [],
   "source": [
    "s = ['<html>'] #html标题\n",
    "s.append('<HEAD><TITLE>my dataframe</TITLE></HEAD>') #头标题\n",
    "s.append('<BODY>') # body部分\n",
    "s.append(frame.to_html()) #这是个html格式的表格\n",
    "s.append('</BODY></HTML>') \n",
    "html = ''.join(s)\n",
    "\n",
    "html_file=open('myFrame.html','w')\n",
    "html_file.write(html)\n",
    "html_file.close()"
   ]
  },
  {
   "cell_type": "markdown",
   "metadata": {},
   "source": [
    "   ## 从HTML读取数据\n",
    "   read_html做了什么事：\n",
    "   解析HTML页面，寻找html表格。如果找到，将其转化为可以用于数据分析的DataFrame对象   \n",
    "   即使只有一个表格，read_html也会返回一个DataFrame列表（存储DataFrame的列表）"
   ]
  },
  {
   "cell_type": "code",
   "execution_count": 5,
   "metadata": {},
   "outputs": [
    {
     "data": {
      "text/html": [
       "<div>\n",
       "<style scoped>\n",
       "    .dataframe tbody tr th:only-of-type {\n",
       "        vertical-align: middle;\n",
       "    }\n",
       "\n",
       "    .dataframe tbody tr th {\n",
       "        vertical-align: top;\n",
       "    }\n",
       "\n",
       "    .dataframe thead th {\n",
       "        text-align: right;\n",
       "    }\n",
       "</style>\n",
       "<table border=\"1\" class=\"dataframe\">\n",
       "  <thead>\n",
       "    <tr style=\"text-align: right;\">\n",
       "      <th></th>\n",
       "      <th>Unnamed: 0</th>\n",
       "      <th>up</th>\n",
       "      <th>down</th>\n",
       "      <th>right</th>\n",
       "      <th>left</th>\n",
       "    </tr>\n",
       "  </thead>\n",
       "  <tbody>\n",
       "    <tr>\n",
       "      <th>0</th>\n",
       "      <td>white</td>\n",
       "      <td>0.945437</td>\n",
       "      <td>0.893630</td>\n",
       "      <td>0.008821</td>\n",
       "      <td>0.680457</td>\n",
       "    </tr>\n",
       "    <tr>\n",
       "      <th>1</th>\n",
       "      <td>black</td>\n",
       "      <td>0.015846</td>\n",
       "      <td>0.470614</td>\n",
       "      <td>0.168449</td>\n",
       "      <td>0.819730</td>\n",
       "    </tr>\n",
       "    <tr>\n",
       "      <th>2</th>\n",
       "      <td>red</td>\n",
       "      <td>0.565784</td>\n",
       "      <td>0.437285</td>\n",
       "      <td>0.743008</td>\n",
       "      <td>0.668553</td>\n",
       "    </tr>\n",
       "    <tr>\n",
       "      <th>3</th>\n",
       "      <td>blue</td>\n",
       "      <td>0.573898</td>\n",
       "      <td>0.024029</td>\n",
       "      <td>0.657169</td>\n",
       "      <td>0.356462</td>\n",
       "    </tr>\n",
       "  </tbody>\n",
       "</table>\n",
       "</div>"
      ],
      "text/plain": [
       "  Unnamed: 0        up      down     right      left\n",
       "0      white  0.945437  0.893630  0.008821  0.680457\n",
       "1      black  0.015846  0.470614  0.168449  0.819730\n",
       "2        red  0.565784  0.437285  0.743008  0.668553\n",
       "3       blue  0.573898  0.024029  0.657169  0.356462"
      ]
     },
     "execution_count": 5,
     "metadata": {},
     "output_type": "execute_result"
    }
   ],
   "source": [
    "web_frames = pd.read_html('myFrame.html')\n",
    "web_frames[0]"
   ]
  },
  {
   "cell_type": "code",
   "execution_count": null,
   "metadata": {},
   "outputs": [],
   "source": [
    "# ranking = pd.read_html('https://music.163.com/#/discover/toplist?id=3778678') \n",
    "# pd.read_html 需要很多包才能读取成功"
   ]
  },
  {
   "cell_type": "code",
   "execution_count": null,
   "metadata": {},
   "outputs": [],
   "source": [
    "ranking[0]"
   ]
  },
  {
   "cell_type": "code",
   "execution_count": null,
   "metadata": {},
   "outputs": [],
   "source": []
  }
 ],
 "metadata": {
  "kernelspec": {
   "display_name": "Python 3",
   "language": "python",
   "name": "python3"
  },
  "language_info": {
   "codemirror_mode": {
    "name": "ipython",
    "version": 3
   },
   "file_extension": ".py",
   "mimetype": "text/x-python",
   "name": "python",
   "nbconvert_exporter": "python",
   "pygments_lexer": "ipython3",
   "version": "3.8.3"
  }
 },
 "nbformat": 4,
 "nbformat_minor": 4
}
