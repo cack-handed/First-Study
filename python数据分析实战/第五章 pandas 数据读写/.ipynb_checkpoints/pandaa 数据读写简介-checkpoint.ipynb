{
 "cells": [
  {
   "cell_type": "markdown",
   "metadata": {},
   "source": [
    "## pandas 读写，本章只要介绍多种I/O API函数\n",
    "它们可以直接将数据作为**DataFrame对象**进行读写   \n",
    "最后讲解SQL和NoSQL常用的数据库连接方法，举例说明如何将DataFrame存储到数据库。及其逆向操作；   \n",
    "***\n",
    "## I/O API工具\n"
   ]
  },
  {
   "cell_type": "markdown",
   "metadata": {},
   "source": [
    "读取函数：   \n",
    "* read_csv\n",
    "* read_excel\n",
    "* read_hdf\n",
    "* read_sql\n",
    "* read_json\n",
    "* read_html\n",
    "* read_stata\n",
    "* read_clipboard\n",
    "* read_pickle\n",
    "* read_msgpack\n",
    "* read_gbq"
   ]
  },
  {
   "cell_type": "markdown",
   "metadata": {},
   "source": [
    "写入函数：\n",
    "***读取函数的 read_* 改写成 to_*即可***"
   ]
  },
  {
   "cell_type": "code",
   "execution_count": null,
   "metadata": {},
   "outputs": [],
   "source": []
  }
 ],
 "metadata": {
  "kernelspec": {
   "display_name": "Python 3",
   "language": "python",
   "name": "python3"
  },
  "language_info": {
   "codemirror_mode": {
    "name": "ipython",
    "version": 3
   },
   "file_extension": ".py",
   "mimetype": "text/x-python",
   "name": "python",
   "nbconvert_exporter": "python",
   "pygments_lexer": "ipython3",
   "version": "3.8.3"
  }
 },
 "nbformat": 4,
 "nbformat_minor": 4
}
