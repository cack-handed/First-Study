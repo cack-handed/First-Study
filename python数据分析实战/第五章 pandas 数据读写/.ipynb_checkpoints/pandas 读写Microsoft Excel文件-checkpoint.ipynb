{
 "cells": [
  {
   "cell_type": "markdown",
   "metadata": {},
   "source": [
    "## read_excel() & to_excel()\n",
    "* read_excel()能读取Excel 2003(.xls) Excel 2007(.xlsx)"
   ]
  },
  {
   "cell_type": "code",
   "execution_count": 2,
   "metadata": {},
   "outputs": [],
   "source": [
    "import pandas as pd\n",
    "import numpy as np"
   ]
  },
  {
   "cell_type": "code",
   "execution_count": 4,
   "metadata": {},
   "outputs": [
    {
     "ename": "NameError",
     "evalue": "name '读取这种格式失败' is not defined",
     "output_type": "error",
     "traceback": [
      "\u001b[0;31m---------------------------------------------------------------------------\u001b[0m",
      "\u001b[0;31mNameError\u001b[0m                                 Traceback (most recent call last)",
      "\u001b[0;32m<ipython-input-4-ce2128a10684>\u001b[0m in \u001b[0;36m<module>\u001b[0;34m\u001b[0m\n\u001b[1;32m      1\u001b[0m \u001b[0;31m#pd.read_excel('ch05_data.xlsx')\u001b[0m\u001b[0;34m\u001b[0m\u001b[0;34m\u001b[0m\u001b[0;34m\u001b[0m\u001b[0m\n\u001b[0;32m----> 2\u001b[0;31m \u001b[0m读取这种格式失败\u001b[0m\u001b[0;34m\u001b[0m\u001b[0;34m\u001b[0m\u001b[0m\n\u001b[0m",
      "\u001b[0;31mNameError\u001b[0m: name '读取这种格式失败' is not defined"
     ]
    }
   ],
   "source": [
    "#pd.read_excel('ch05_data.xlsx')\n",
    "读取这种格式失败"
   ]
  },
  {
   "cell_type": "code",
   "execution_count": 5,
   "metadata": {},
   "outputs": [
    {
     "data": {
      "text/html": [
       "<div>\n",
       "<style scoped>\n",
       "    .dataframe tbody tr th:only-of-type {\n",
       "        vertical-align: middle;\n",
       "    }\n",
       "\n",
       "    .dataframe tbody tr th {\n",
       "        vertical-align: top;\n",
       "    }\n",
       "\n",
       "    .dataframe thead th {\n",
       "        text-align: right;\n",
       "    }\n",
       "</style>\n",
       "<table border=\"1\" class=\"dataframe\">\n",
       "  <thead>\n",
       "    <tr style=\"text-align: right;\">\n",
       "      <th></th>\n",
       "      <th>Jan2015</th>\n",
       "      <th>Fab2015</th>\n",
       "      <th>Mar2015</th>\n",
       "      <th>Apr2005</th>\n",
       "    </tr>\n",
       "  </thead>\n",
       "  <tbody>\n",
       "    <tr>\n",
       "      <th>exp1</th>\n",
       "      <td>0.998589</td>\n",
       "      <td>0.499147</td>\n",
       "      <td>0.076292</td>\n",
       "      <td>0.471815</td>\n",
       "    </tr>\n",
       "    <tr>\n",
       "      <th>exp2</th>\n",
       "      <td>0.607309</td>\n",
       "      <td>0.823467</td>\n",
       "      <td>0.339508</td>\n",
       "      <td>0.752526</td>\n",
       "    </tr>\n",
       "    <tr>\n",
       "      <th>exp3</th>\n",
       "      <td>0.559250</td>\n",
       "      <td>0.414818</td>\n",
       "      <td>0.632104</td>\n",
       "      <td>0.979987</td>\n",
       "    </tr>\n",
       "    <tr>\n",
       "      <th>exp4</th>\n",
       "      <td>0.048683</td>\n",
       "      <td>0.032736</td>\n",
       "      <td>0.741927</td>\n",
       "      <td>0.904692</td>\n",
       "    </tr>\n",
       "  </tbody>\n",
       "</table>\n",
       "</div>"
      ],
      "text/plain": [
       "       Jan2015   Fab2015   Mar2015   Apr2005\n",
       "exp1  0.998589  0.499147  0.076292  0.471815\n",
       "exp2  0.607309  0.823467  0.339508  0.752526\n",
       "exp3  0.559250  0.414818  0.632104  0.979987\n",
       "exp4  0.048683  0.032736  0.741927  0.904692"
      ]
     },
     "execution_count": 5,
     "metadata": {},
     "output_type": "execute_result"
    }
   ],
   "source": [
    "frame = pd.DataFrame(np.random.random((4,4)),\n",
    "                    index = ['exp1','exp2','exp3','exp4'],\n",
    "                    columns = ['Jan2015','Fab2015','Mar2015','Apr2005'])\n",
    "frame"
   ]
  },
  {
   "cell_type": "code",
   "execution_count": 7,
   "metadata": {},
   "outputs": [],
   "source": [
    "frame.to_excel('data2.xlsx')"
   ]
  },
  {
   "cell_type": "code",
   "execution_count": 8,
   "metadata": {},
   "outputs": [
    {
     "data": {
      "text/html": [
       "<div>\n",
       "<style scoped>\n",
       "    .dataframe tbody tr th:only-of-type {\n",
       "        vertical-align: middle;\n",
       "    }\n",
       "\n",
       "    .dataframe tbody tr th {\n",
       "        vertical-align: top;\n",
       "    }\n",
       "\n",
       "    .dataframe thead th {\n",
       "        text-align: right;\n",
       "    }\n",
       "</style>\n",
       "<table border=\"1\" class=\"dataframe\">\n",
       "  <thead>\n",
       "    <tr style=\"text-align: right;\">\n",
       "      <th></th>\n",
       "      <th>Unnamed: 0</th>\n",
       "      <th>Jan2015</th>\n",
       "      <th>Fab2015</th>\n",
       "      <th>Mar2015</th>\n",
       "      <th>Apr2005</th>\n",
       "    </tr>\n",
       "  </thead>\n",
       "  <tbody>\n",
       "    <tr>\n",
       "      <th>0</th>\n",
       "      <td>exp1</td>\n",
       "      <td>0.998589</td>\n",
       "      <td>0.499147</td>\n",
       "      <td>0.076292</td>\n",
       "      <td>0.471815</td>\n",
       "    </tr>\n",
       "    <tr>\n",
       "      <th>1</th>\n",
       "      <td>exp2</td>\n",
       "      <td>0.607309</td>\n",
       "      <td>0.823467</td>\n",
       "      <td>0.339508</td>\n",
       "      <td>0.752526</td>\n",
       "    </tr>\n",
       "    <tr>\n",
       "      <th>2</th>\n",
       "      <td>exp3</td>\n",
       "      <td>0.559250</td>\n",
       "      <td>0.414818</td>\n",
       "      <td>0.632104</td>\n",
       "      <td>0.979987</td>\n",
       "    </tr>\n",
       "    <tr>\n",
       "      <th>3</th>\n",
       "      <td>exp4</td>\n",
       "      <td>0.048683</td>\n",
       "      <td>0.032736</td>\n",
       "      <td>0.741927</td>\n",
       "      <td>0.904692</td>\n",
       "    </tr>\n",
       "  </tbody>\n",
       "</table>\n",
       "</div>"
      ],
      "text/plain": [
       "  Unnamed: 0   Jan2015   Fab2015   Mar2015   Apr2005\n",
       "0       exp1  0.998589  0.499147  0.076292  0.471815\n",
       "1       exp2  0.607309  0.823467  0.339508  0.752526\n",
       "2       exp3  0.559250  0.414818  0.632104  0.979987\n",
       "3       exp4  0.048683  0.032736  0.741927  0.904692"
      ]
     },
     "execution_count": 8,
     "metadata": {},
     "output_type": "execute_result"
    }
   ],
   "source": [
    "pd.read_excel('data2.xlsx')"
   ]
  },
  {
   "cell_type": "code",
   "execution_count": null,
   "metadata": {},
   "outputs": [],
   "source": []
  }
 ],
 "metadata": {
  "kernelspec": {
   "display_name": "Python 3",
   "language": "python",
   "name": "python3"
  },
  "language_info": {
   "codemirror_mode": {
    "name": "ipython",
    "version": 3
   },
   "file_extension": ".py",
   "mimetype": "text/x-python",
   "name": "python",
   "nbconvert_exporter": "python",
   "pygments_lexer": "ipython3",
   "version": "3.8.3"
  }
 },
 "nbformat": 4,
 "nbformat_minor": 4
}
