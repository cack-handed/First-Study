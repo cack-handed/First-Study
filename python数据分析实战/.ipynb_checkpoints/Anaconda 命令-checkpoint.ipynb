{
 "cells": [
  {
   "cell_type": "markdown",
   "metadata": {},
   "source": [
    "## Anaconda\n",
    "***allmost every problem can be sloved***   \n",
    "<https://blog.csdn.net/zhayushui/article/details/80433768?utm_medium=distribute.pc_relevant_t0.none-task-blog-BlogCommendFromBaidu-1.control&depth_1-utm_source=distribute.pc_relevant_t0.none-task-blog-BlogCommendFromBaidu-1.control>\n",
    "***\n",
    "## create\n",
    "conda create -n py36 python=3.6\n",
    "***\n",
    "## delete\n",
    "conda remove -n py36 --all\n",
    "***\n",
    "## update\n",
    "conda update conda   \n",
    "conda update anaconda   \n",
    "conda update anaconda-navigtor //test \n",
    "***\n",
    "\n",
    "## enviroment\n",
    "conda env list   \n",
    "or   \n",
    "conda info --envs\n",
    "***\n",
    "## activate\n",
    "conda activate py36   \n",
    "or   \n",
    "source actiavate   \n",
    "#### auto acitvate\n",
    "**conda config --set auto_activate_base false   \n",
    "conda config --set auto_activate_base true**\n",
    "***\n",
    "## deactivate\n",
    "conda deactivate    \n",
    "or   \n",
    "sourve deactivate\n",
    "***\n",
    "## colne\n",
    "*rcnn (old) ==> tf (new)*   \n",
    "first: **conda create -n tf --clone rcnn***   \n",
    "second: **conda remove -n rcnn -all**\n",
    "***"
   ]
  },
  {
   "cell_type": "markdown",
   "metadata": {},
   "source": [
    "## package\n",
    "**conda list \\\\show all install package   \n",
    "conda list -n xxx \\\\show xxx install package   \n",
    "conda updata xxx \\\\updata xxx   \n",
    "conda install xxx   \n",
    "conda uninstall xxx**   \n",
    "***\n",
    "## clean\n",
    "**conda clean -p \\\\delete unuse   \n",
    "conda clean -t  \\\\delete tar package   \n",
    "conda clean -y --all  \\\\delete all package&cache**   \n",
    "***\n",
    "## 安装指定版本的包\n",
    "anaconda search -t conda tensorflow-gpu   \n",
    "选择想要安装版本的名称   \n",
    "anaconda show xxxxnamexxx   \n",
    "根据最后一句提醒进行安装   \n",
    "conda install --xxxxxxxxxxx\n",
    "***"
   ]
  },
  {
   "cell_type": "code",
   "execution_count": null,
   "metadata": {},
   "outputs": [],
   "source": []
  }
 ],
 "metadata": {
  "kernelspec": {
   "display_name": "Python 3",
   "language": "python",
   "name": "python3"
  },
  "language_info": {
   "codemirror_mode": {
    "name": "ipython",
    "version": 3
   },
   "file_extension": ".py",
   "mimetype": "text/x-python",
   "name": "python",
   "nbconvert_exporter": "python",
   "pygments_lexer": "ipython3",
   "version": "3.8.3"
  }
 },
 "nbformat": 4,
 "nbformat_minor": 4
}
