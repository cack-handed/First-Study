{
 "cells": [
  {
   "cell_type": "markdown",
   "metadata": {},
   "source": [
    "# pandas \n",
    "***\n",
    "### 安装pandas\n",
    "***\n",
    "anaconda\n",
    "***"
   ]
  },
  {
   "cell_type": "markdown",
   "metadata": {},
   "source": [
    "Anaconda使用conda activate激活环境出错（待完全解决）2018-06-09\n",
    "今天使用激活python36环境时出错\n",
    "\n",
    "conda activate python36\n",
    "出错log\n",
    "CommandNotFoundError: Your shell has not been properly configured to use 'conda activate'.\n",
    "然后按照log提示也没有完全解决\n",
    "\n",
    "解决办法\n",
    "*激活环境*\n",
    "**source activate**\n",
    "*退出环境*\n",
    "**source deactivate**   \n",
    "\n",
    "神奇的是**此时使用\n",
    "conda activate python36**\n",
    "就可以使用了\n",
    "\n"
   ]
  },
  {
   "cell_type": "markdown",
   "metadata": {},
   "source": [
    "conda install pandas   \n",
    "测试是否安装完成：   \n",
    "nosetest pandas\n",
    "***"
   ]
  },
  {
   "cell_type": "code",
   "execution_count": null,
   "metadata": {},
   "outputs": [],
   "source": []
  }
 ],
 "metadata": {
  "kernelspec": {
   "display_name": "Python 3",
   "language": "python",
   "name": "python3"
  },
  "language_info": {
   "codemirror_mode": {
    "name": "ipython",
    "version": 3
   },
   "file_extension": ".py",
   "mimetype": "text/x-python",
   "name": "python",
   "nbconvert_exporter": "python",
   "pygments_lexer": "ipython3",
   "version": "3.8.3"
  }
 },
 "nbformat": 4,
 "nbformat_minor": 4
}
